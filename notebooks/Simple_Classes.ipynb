{
  "nbformat": 4,
  "nbformat_minor": 0,
  "metadata": {
    "colab": {
      "provenance": []
    },
    "kernelspec": {
      "name": "python3",
      "display_name": "Python 3"
    },
    "language_info": {
      "name": "python"
    }
  },
  "cells": [
    {
      "cell_type": "markdown",
      "source": [
        "This notebook shows how you can use jax within the context of a custom class to perform mathematical operations. Some examples as to why / use cases are shown via performance benchmarking at the bottom of this notebook."
      ],
      "metadata": {
        "id": "4kYeQn7HkBj2"
      }
    },
    {
      "cell_type": "code",
      "execution_count": 2,
      "metadata": {
        "id": "RYmlqaARTdaJ"
      },
      "outputs": [],
      "source": [
        "import jax\n",
        "import jax.numpy as jnp\n",
        "from jax.scipy.integrate import trapezoid\n",
        "import matplotlib.pyplot as plt\n",
        "import numpy as np\n",
        "from functools import partial\n",
        "import time"
      ]
    },
    {
      "cell_type": "code",
      "source": [
        "class CustomFunc:\n",
        "  \"\"\"\n",
        "  A custom function class that will be used to derivate, integrate, and plot\n",
        "  passed in arrrays of inputs and ouputs.\n",
        "\n",
        "  function: When instantiating a CustomFunc you must specify a function to the\n",
        "            object. For example, you could use a lambda function such as:\n",
        "\n",
        "            lambda x: x**2 + 10,\n",
        "\n",
        "            or you could specify simple operations:\n",
        "\n",
        "            jnp.cos\n",
        "  \"\"\"\n",
        "\n",
        "  def __init__(self, function):\n",
        "    self._f = jax.jit(function) # just-in-time compile (jit) the passed in func\n",
        "    self._df = jax.jit(jax.grad(self._f)) # jit the derivative of the func\n",
        "    # You could add more derivatives here or other operations\n",
        "\n",
        "  # Do not need to decorate evaluate / derivative since they have been\n",
        "  # jitted in the init.\n",
        "  def evaluate(self, x: float):\n",
        "    \"\"\" Returns the function evaluation of a passed in value \"\"\"\n",
        "    return self._f(x)\n",
        "\n",
        "  def derivative(self, x: float):\n",
        "    \"\"\" Returns the derivative evaluation of a passed in value \"\"\"\n",
        "    return self._df(x)\n",
        "\n",
        "  # When specifying a jit-ted function in a class, you must specify that\n",
        "  # static_argnums=(0,). This tells jax that \"self\" is a static variable.\n",
        "  # Therefore, you can not change the values of \"self\" throughout the\n",
        "  # process!\n",
        "  @partial(jax.jit, static_argnums=(0,))\n",
        "  def integral(self, x: np.array):\n",
        "    \"\"\" Returns the integral evaluation of a passed in range \"\"\"\n",
        "    return trapezoid(self._f(x), x)\n",
        "\n",
        "  def plot(self, x, y):\n",
        "    \"\"\" Simply plots the passed in x and y values \"\"\"\n",
        "    plt.plot(x, y)\n",
        "    plt.show()\n"
      ],
      "metadata": {
        "id": "Fz3JfeONTo0W"
      },
      "execution_count": 18,
      "outputs": []
    },
    {
      "cell_type": "markdown",
      "source": [
        "Below are two code examples showing how one would use this CustomFunc class. A benefit to jit-ting these methods is that the code within is then compiled, and the functions run-time will be likely be much more efficient. This is most important when you have long loops of operations, as we will see in the final cell."
      ],
      "metadata": {
        "id": "hH1ZBFDOludo"
      }
    },
    {
      "cell_type": "code",
      "source": [
        "x = jnp.linspace(0, np.pi, 100)\n",
        "cosine = CustomFunc(jnp.cos)\n",
        "print(f'Evaluation of cosine at x=pi    | {cosine.evaluate(np.pi)}')\n",
        "print(f'Derivate of cosine at x=pi      | {cosine.derivative(np.pi)}')\n",
        "print(f'Integral of cosine from 0 to pi | {cosine.integral(x)}')\n",
        "cosine.plot(x, cosine.evaluate(x))"
      ],
      "metadata": {
        "colab": {
          "base_uri": "https://localhost:8080/",
          "height": 484
        },
        "id": "cpEipj3pTobf",
        "outputId": "5225c4b7-30bb-4958-fcef-95841a120548"
      },
      "execution_count": 19,
      "outputs": [
        {
          "output_type": "stream",
          "name": "stdout",
          "text": [
            "Evaluation of cosine at x=pi    | -1.0\n",
            "Derivate of cosine at x=pi      | 8.742277657347586e-08\n",
            "Integral of cosine from 0 to pi | -1.1920928955078125e-07\n"
          ]
        },
        {
          "output_type": "display_data",
          "data": {
            "text/plain": [
              "<Figure size 640x480 with 1 Axes>"
            ],
            "image/png": "[encoded data removed]"
          },
          "metadata": {}
        }
      ]
    },
    {
      "cell_type": "code",
      "source": [
        "custom_func = lambda x: x**2 + 2*x + 1\n",
        "x = jnp.linspace(0, 5, 100)\n",
        "cf = CustomFunc(custom_func)\n",
        "print(f'Evaluation of x^2 + 2x + 1 at x=5     | {cf.evaluate(5.)}')\n",
        "print(f'Derivate of x^2 + 2x + 1 at x=5       | {cf.derivative(5.)}')\n",
        "print(f'Integral of x^2 + 2x + 1 from 0 to 5  | {cf.integral(x)}')\n",
        "cf.plot(x, cf.evaluate(x))"
      ],
      "metadata": {
        "colab": {
          "base_uri": "https://localhost:8080/",
          "height": 484
        },
        "id": "-W-ay6h4aT1r",
        "outputId": "ff4cb1b1-4c6b-4ec7-c670-4ae1186bd499"
      },
      "execution_count": 20,
      "outputs": [
        {
          "output_type": "stream",
          "name": "stdout",
          "text": [
            "Evaluation of x^2 + 2x + 1 at x=5     | 36.0\n",
            "Derivate of x^2 + 2x + 1 at x=5       | 12.0\n",
            "Integral of x^2 + 2x + 1 from 0 to 5  | 71.66879272460938\n"
          ]
        },
        {
          "output_type": "display_data",
          "data": {
            "text/plain": [
              "<Figure size 640x480 with 1 Axes>"
            ],
            "image/png": "[encoded data removed]"
          },
          "metadata": {}
        }
      ]
    },
    {
      "cell_type": "code",
      "source": [
        "from scipy.integrate import trapezoid as tzoid\n",
        "\n",
        "class NoJitFunc:\n",
        "  \"\"\"\n",
        "  A non-jitted function class that will be used to derivate, integrate, and plot\n",
        "  passed in arrrays of inputs and ouputs. It will be used to compare to the\n",
        "  jitted CustomFunc class.\n",
        "  \"\"\"\n",
        "\n",
        "  def __init__(self, function):\n",
        "    self._f = function\n",
        "\n",
        "  def evaluate(self, x: float):\n",
        "    return self._f(x)\n",
        "\n",
        "  def derivative(self, x: float):\n",
        "    # NOTE: I do not want to implement a numerical method to show this, but you\n",
        "    #       overall this would be slower without the use of auto-dif from\n",
        "    #       packages like jax\n",
        "    return NotImplementedError\n",
        "\n",
        "  def integral(self, x: np.array):\n",
        "    return tzoid(self._f(x), x)\n",
        "\n",
        "  def plot(self, x, y):\n",
        "    plt.plot(x, y)\n",
        "    plt.show()\n"
      ],
      "metadata": {
        "id": "dE1AoS2HmQQU"
      },
      "execution_count": 21,
      "outputs": []
    },
    {
      "cell_type": "code",
      "source": [
        "f = lambda x: (2 * x**5) - (3 * x**4) + (7 * x**3) - (2 * x**2) + (5*x) - 1\n",
        "jit_func = CustomFunc(f)\n",
        "no_jit_func = NoJitFunc(f)\n",
        "\n",
        "# Grab some eval times (~un-efficiently~)\n",
        "ts1 = time.perf_counter()\n",
        "jit_func.evaluate(5.123)\n",
        "ts2 = time.perf_counter()\n",
        "no_jit_func.evaluate(5.123)\n",
        "ts3 = time.perf_counter()\n",
        "jit_func.integral(np.linspace(0, 10, 1000))\n",
        "ts4 = time.perf_counter()\n",
        "no_jit_func.integral(np.linspace(0, 10, 1000))\n",
        "ts5 = time.perf_counter()\n",
        "\n",
        "# Print the times\n",
        "t_jit = ts2 - ts1\n",
        "t_no_jit = ts3 - ts2\n",
        "t_int_jit = ts4 - ts3\n",
        "t_int_no_jit = ts5 - ts4\n",
        "\n",
        "print(f'Jitted f(x=5.123)                | {jit_func.evaluate(5.)} | time (s) | {t_jit}')\n",
        "print(f'Non-jitted f(x=5)                | {no_jit_func.evaluate(5.)} | time (s) | {t_no_jit}')\n",
        "print(f'Jitted integral from 0 to 10     | {jit_func.integral(np.linspace(0, 10, 1000))} | time (s) | {t_int_jit}')\n",
        "print(f'Non-jitted integral from 0 to 10 | {no_jit_func.integral(np.linspace(0, 10, 1000))} | time (s) | {t_int_no_jit}')"
      ],
      "metadata": {
        "colab": {
          "base_uri": "https://localhost:8080/"
        },
        "id": "KzABVAKgnAQS",
        "outputId": "7d74f45d-94dd-404a-ce69-81a4d59ebfec"
      },
      "execution_count": 22,
      "outputs": [
        {
          "output_type": "stream",
          "name": "stdout",
          "text": [
            "Jitted f(x=5.123)                | 5224.0 | time (s) | 0.04939674799993554\n",
            "Non-jitted f(x=5)                | 5224.0 | time (s) | 0.00014946000010240823\n",
            "Jitted integral from 0 to 10     | 290407.4375 | time (s) | 0.08785697700000128\n",
            "Non-jitted integral from 0 to 10 | 290407.41866976384 | time (s) | 0.0005946799999492214\n"
          ]
        }
      ]
    },
    {
      "cell_type": "markdown",
      "source": [
        "Wait a minute, it wasn't faster!\n",
        "\n",
        "Generally, you won't see the performance benefits of jit until you run loops and loops of iterations!"
      ],
      "metadata": {
        "id": "vRsmwUWloyT-"
      }
    },
    {
      "cell_type": "code",
      "source": [
        "ts1 = time.time()\n",
        "# We need to evaluate that function from 0 -> 10 for 1000 intervals.\n",
        "# JAX really shines when we have these long batches of data. If you\n",
        "# were to just use say x=5, then jax would be pointless (and probably slower)\n",
        "x = jnp.linspace(0, 10, 1000)\n",
        "N = 10000\n",
        "jit_func.evaluate(1) # Warmup the jit\n",
        "for i in range(N):\n",
        "  jit_func.evaluate(x)\n",
        "ts2 = time.time()\n",
        "for i in range(N):\n",
        "  no_jit_func.evaluate(x)\n",
        "ts3 = time.time()\n",
        "\n",
        "t_jit = ts2 - ts1\n",
        "t_no_jit = ts3 - ts2\n",
        "\n",
        "print(f'Jitted f(x=5.123) for {N} loops     | time (s) | {t_jit}')\n",
        "print(f'Non-jitted f(x=5.123) for {N} loops | time (s) | {t_no_jit}')\n",
        "print(f'Jitted evaluation is {t_no_jit / t_jit:.0f}x faster')"
      ],
      "metadata": {
        "colab": {
          "base_uri": "https://localhost:8080/"
        },
        "id": "Z_ZJdB9uo7XD",
        "outputId": "45506495-b7ef-4454-8750-b4ac1763e7b2"
      },
      "execution_count": 32,
      "outputs": [
        {
          "output_type": "stream",
          "name": "stdout",
          "text": [
            "Jitted f(x=5.123) for 10000 loops     | time (s) | 0.18333125114440918\n",
            "Non-jitted f(x=5.123) for 10000 loops | time (s) | 13.332019805908203\n",
            "Jitted evaluation is 73x faster\n"
          ]
        }
      ]
    }
  ]
}